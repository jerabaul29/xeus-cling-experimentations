{
 "cells": [
  {
   "cell_type": "code",
   "execution_count": 1,
   "metadata": {},
   "outputs": [
    {
     "name": "stdout",
     "output_type": "stream",
     "text": [
      "-I/home/jrlab/anaconda3/envs/cling/include/python3.7m -I/home/jrlab/anaconda3/envs/cling/include/python3.7m\n"
     ]
    }
   ],
   "source": [
    "!python3-config --includes"
   ]
  },
  {
   "cell_type": "code",
   "execution_count": 2,
   "metadata": {},
   "outputs": [
    {
     "name": "stdout",
     "output_type": "stream",
     "text": [
      "-lpython3.7m -lpthread -ldl  -lutil -lrt -lm \n"
     ]
    }
   ],
   "source": [
    "!python3-config --libs"
   ]
  },
  {
   "cell_type": "code",
   "execution_count": 3,
   "metadata": {},
   "outputs": [],
   "source": [
    "#include <string>\n",
    "#include <fstream>\n",
    "\n",
    "#include \"xtl/xbase64.hpp\"\n",
    "#include \"xeus/xjson.hpp\"\n",
    "\n",
    "namespace im\n",
    "{\n",
    "    struct image\n",
    "    {   \n",
    "        inline image(const std::string& filename)\n",
    "        {\n",
    "            std::ifstream fin(filename, std::ios::binary);   \n",
    "            m_buffer << fin.rdbuf();\n",
    "        }\n",
    "        \n",
    "        std::stringstream m_buffer;\n",
    "    };\n",
    "    \n",
    "    xeus::xjson mime_bundle_repr(const image& i)\n",
    "    {\n",
    "        auto bundle = xeus::xjson::object();\n",
    "        bundle[\"image/png\"] = xtl::base64encode(i.m_buffer.str());\n",
    "        return bundle;\n",
    "    }\n",
    "}"
   ]
  },
  {
   "cell_type": "code",
   "execution_count": 4,
   "metadata": {},
   "outputs": [],
   "source": [
    "// include path needs to be adapted for both the path itself (depending on the machine)\n",
    "// and the python version (check the version available in the corresponding folder)\n",
    "#pragma cling add_include_path(\"/home/jrlab/anaconda3/include/python3.8\")"
   ]
  },
  {
   "cell_type": "code",
   "execution_count": 5,
   "metadata": {},
   "outputs": [],
   "source": [
    "#pragma cling add_library_path(\"/home/jrlab/anaconda3/lib/\")"
   ]
  },
  {
   "cell_type": "code",
   "execution_count": 6,
   "metadata": {},
   "outputs": [],
   "source": [
    "#pragma cling load(\"python3.7m\")"
   ]
  },
  {
   "cell_type": "code",
   "execution_count": 7,
   "metadata": {},
   "outputs": [],
   "source": [
    "// NOTE: if should include numpy, is at /usr/include/numpy, which may be added by:\n",
    "// #pragma cling add_include_path(\"/usr/include/\")\n",
    "// problem: this also includes a lot of conflicting stuff, may need to fix...\n",
    "#define WITHOUT_NUMPY\n",
    "\n",
    "// \n",
    "#include \"matplotlib-cpp/matplotlibcpp.h\"\n"
   ]
  },
  {
   "cell_type": "code",
   "execution_count": 8,
   "metadata": {},
   "outputs": [],
   "source": [
    "namespace plt = matplotlibcpp;"
   ]
  },
  {
   "cell_type": "code",
   "execution_count": 9,
   "metadata": {},
   "outputs": [],
   "source": [
    "std::vector<double> x, y, z;\n",
    "for (double i = -5; i <= 5;  i += 0.25) {\n",
    "    for (double j = -5; j <= 5; j += 0.25) {\n",
    "        x.push_back(i);\n",
    "        y.push_back(j);\n",
    "        z.push_back(::std::sin(::std::hypot(i, j)));\n",
    "    }\n",
    "}"
   ]
  },
  {
   "cell_type": "code",
   "execution_count": 10,
   "metadata": {},
   "outputs": [
    {
     "ename": "Standard Exception",
     "evalue": "Error loading module matplotlib!",
     "output_type": "error",
     "traceback": [
      "Standard Exception: Error loading module matplotlib!"
     ]
    }
   ],
   "source": [
    "plt::plot3(x, y, z);"
   ]
  },
  {
   "cell_type": "code",
   "execution_count": null,
   "metadata": {},
   "outputs": [],
   "source": [
    "std::vector<std::vector<double>> x, y, z;\n",
    "for (double i = -5; i <= 5;  i += 0.25) {\n",
    "    std::vector<double> x_row, y_row, z_row;\n",
    "    for (double j = -5; j <= 5; j += 0.25) {\n",
    "        x_row.push_back(i);\n",
    "        y_row.push_back(j);\n",
    "        z_row.push_back(::std::sin(::std::hypot(i, j)));\n",
    "    }\n",
    "    x.push_back(x_row);\n",
    "    y.push_back(y_row);\n",
    "    z.push_back(z_row);\n",
    "}"
   ]
  },
  {
   "cell_type": "code",
   "execution_count": null,
   "metadata": {},
   "outputs": [],
   "source": [
    "x"
   ]
  },
  {
   "cell_type": "code",
   "execution_count": null,
   "metadata": {},
   "outputs": [],
   "source": [
    "plt::plot3(x, y, z);"
   ]
  },
  {
   "cell_type": "code",
   "execution_count": null,
   "metadata": {},
   "outputs": [],
   "source": []
  }
 ],
 "metadata": {
  "kernelspec": {
   "display_name": "C++17",
   "language": "C++17",
   "name": "xcpp17"
  },
  "language_info": {
   "codemirror_mode": "text/x-c++src",
   "file_extension": ".cpp",
   "mimetype": "text/x-c++src",
   "name": "c++",
   "version": "17"
  }
 },
 "nbformat": 4,
 "nbformat_minor": 4
}
