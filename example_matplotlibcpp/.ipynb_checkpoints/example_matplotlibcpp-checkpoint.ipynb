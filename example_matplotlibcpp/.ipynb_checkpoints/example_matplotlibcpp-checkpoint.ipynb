{
 "cells": [
  {
   "cell_type": "code",
   "execution_count": 1,
   "metadata": {},
   "outputs": [
    {
     "name": "stdout",
     "output_type": "stream",
     "text": [
      "-I/home/jrlab/anaconda3/envs/cling/include/python3.7m -I/home/jrlab/anaconda3/envs/cling/include/python3.7m\n"
     ]
    }
   ],
   "source": [
    "!python3-config --includes"
   ]
  },
  {
   "cell_type": "code",
   "execution_count": 2,
   "metadata": {},
   "outputs": [
    {
     "name": "stdout",
     "output_type": "stream",
     "text": [
      "-lpython3.7m -lpthread -ldl  -lutil -lrt -lm \n"
     ]
    }
   ],
   "source": [
    "!python3-config --libs"
   ]
  },
  {
   "cell_type": "code",
   "execution_count": 3,
   "metadata": {},
   "outputs": [],
   "source": [
    "#include <string>\n",
    "#include <fstream>\n",
    "\n",
    "#include \"xtl/xbase64.hpp\"\n",
    "#include \"xeus/xjson.hpp\"\n",
    "\n",
    "namespace im\n",
    "{\n",
    "    struct image\n",
    "    {   \n",
    "        inline image(const std::string& filename)\n",
    "        {\n",
    "            std::ifstream fin(filename, std::ios::binary);   \n",
    "            m_buffer << fin.rdbuf();\n",
    "        }\n",
    "        \n",
    "        std::stringstream m_buffer;\n",
    "    };\n",
    "    \n",
    "    xeus::xjson mime_bundle_repr(const image& i)\n",
    "    {\n",
    "        auto bundle = xeus::xjson::object();\n",
    "        bundle[\"image/png\"] = xtl::base64encode(i.m_buffer.str());\n",
    "        return bundle;\n",
    "    }\n",
    "}"
   ]
  },
  {
   "cell_type": "code",
   "execution_count": 4,
   "metadata": {},
   "outputs": [],
   "source": [
    "// include path needs to be adapted for both the path itself (depending on the machine)\n",
    "// and the python version (check the version available in the corresponding folder)\n",
    "#pragma cling add_include_path(\"/home/jrlab/anaconda3/include/python3.8\")"
   ]
  },
  {
   "cell_type": "code",
   "execution_count": 5,
   "metadata": {},
   "outputs": [],
   "source": [
    "#pragma cling add_library_path(\"/home/jrlab/anaconda3/lib/\")"
   ]
  },
  {
   "cell_type": "code",
   "execution_count": 6,
   "metadata": {},
   "outputs": [],
   "source": [
    "#pragma cling load(\"python3.7m\")"
   ]
  },
  {
   "cell_type": "code",
   "execution_count": 7,
   "metadata": {},
   "outputs": [],
   "source": [
    "// NOTE: if should include numpy, is at /usr/include/numpy, which may be added by:\n",
    "// #pragma cling add_include_path(\"/usr/include/\")\n",
    "// problem: this also includes a lot of conflicting stuff, may need to fix...\n",
    "#define WITHOUT_NUMPY\n",
    "\n",
    "// \n",
    "#include \"matplotlib-cpp/matplotlibcpp.h\"\n"
   ]
  },
  {
   "cell_type": "code",
   "execution_count": 8,
   "metadata": {},
   "outputs": [],
   "source": [
    "namespace plt = matplotlibcpp;"
   ]
  },
  {
   "cell_type": "code",
   "execution_count": null,
   "metadata": {},
   "outputs": [],
   "source": [
    "std::vector<double> x, y, z;\n",
    "for (double i = -5; i <= 5;  i += 0.25) {\n",
    "    std::vector<double> x_row, y_row, z_row;\n",
    "    for (double j = -5; j <= 5; j += 0.25) {\n",
    "        x_row.push_back(i);\n",
    "        y_row.push_back(j);\n",
    "        z_row.push_back(::std::sin(::std::hypot(i, j)));\n",
    "    }\n",
    "    x.push_back(x_row);\n",
    "    y.push_back(y_row);\n",
    "    z.push_back(z_row);\n",
    "}"
   ]
  },
  {
   "cell_type": "code",
   "execution_count": 9,
   "metadata": {},
   "outputs": [],
   "source": [
    "std::vector<std::vector<double>> x, y, z;\n",
    "for (double i = -5; i <= 5;  i += 0.25) {\n",
    "    std::vector<double> x_row, y_row, z_row;\n",
    "    for (double j = -5; j <= 5; j += 0.25) {\n",
    "        x_row.push_back(i);\n",
    "        y_row.push_back(j);\n",
    "        z_row.push_back(::std::sin(::std::hypot(i, j)));\n",
    "    }\n",
    "    x.push_back(x_row);\n",
    "    y.push_back(y_row);\n",
    "    z.push_back(z_row);\n",
    "}"
   ]
  },
  {
   "cell_type": "code",
   "execution_count": 12,
   "metadata": {},
   "outputs": [
    {
     "name": "stderr",
     "output_type": "stream",
     "text": [
      "In file included from input_line_19:1:\n",
      "\u001b[1m/home/jrlab/anaconda3/envs/cling/include/xcpp/xmime.hpp:38:34: \u001b[0m\u001b[0;1;31merror: \u001b[0m\u001b[1mno viable overloaded '='\u001b[0m\n",
      "            bundle[\"text/plain\"] = oss.str();\n",
      "\u001b[0;1;32m            ~~~~~~~~~~~~~~~~~~~~ ^ ~~~~~~~~~\n",
      "\u001b[0m\u001b[1m/home/jrlab/anaconda3/envs/cling/include/nlohmann/json.hpp:18662:17: \u001b[0m\u001b[0;1;30mnote: \u001b[0mcandidate function not viable: no known conversion from 'std::__cxx11::basic_ostringstream<char, std::char_traits<char>, std::allocator<char>\n",
      "      >::__string_type' (aka 'basic_string<char, std::char_traits<char>, std::allocator<char> >') to 'nlohmann::basic_json<std::map, std::vector,\n",
      "      std::__cxx11::basic_string<char, std::char_traits<char>, std::allocator<char> >, bool, long, unsigned long, double, std::allocator, adl_serializer,\n",
      "      std::vector<unsigned char, std::allocator<unsigned char> > >' for 1st argument\u001b[0m\n",
      "    basic_json& operator=(basic_json other) noexcept (\n",
      "\u001b[0;1;32m                ^\n",
      "\u001b[0mIn file included from input_line_1:1:\n",
      "In file included from /home/jrlab/anaconda3/envs/cling/bin/../lib/gcc/x86_64-conda-linux-gnu/7.5.0/../../../../x86_64-conda-linux-gnu/include/c++/7.5.0/new:40:\n",
      "In file included from /home/jrlab/anaconda3/envs/cling/bin/../lib/gcc/x86_64-conda-linux-gnu/7.5.0/../../../../x86_64-conda-linux-gnu/include/c++/7.5.0/exception:143:\n",
      "In file included from /home/jrlab/anaconda3/envs/cling/bin/../lib/gcc/x86_64-conda-linux-gnu/7.5.0/../../../../x86_64-conda-linux-gnu/include/c++/7.5.0/bits/nested_exception.h:40:\n",
      "In file included from /home/jrlab/anaconda3/envs/cling/bin/../lib/gcc/x86_64-conda-linux-gnu/7.5.0/../../../../x86_64-conda-linux-gnu/include/c++/7.5.0/bits/move.h:54:\n",
      "\u001b[1m/home/jrlab/anaconda3/envs/cling/bin/../lib/gcc/x86_64-conda-linux-gnu/7.5.0/../../../../x86_64-conda-linux-gnu/include/c++/7.5.0/type_traits:149:31: \u001b[0m\u001b[0;1;31merror: \u001b[0m\u001b[1mno member named 'value' in 'std::__not_<std::is_lvalue_reference<std::__cxx11::basic_ostringstream<char> &> >'\u001b[0m\n",
      "    : public conditional<_B1::value, __and_<_B2, _B3, _Bn...>, _B1>::type\n",
      "\u001b[0;1;32m                         ~~~~~^\n",
      "\u001b[0m\u001b[1m/home/jrlab/anaconda3/envs/cling/bin/../lib/gcc/x86_64-conda-linux-gnu/7.5.0/../../../../x86_64-conda-linux-gnu/include/c++/7.5.0/ostream:676:24: \u001b[0m\u001b[0;1;30mnote: \u001b[0min instantiation of template class 'std::__and_<std::__not_<std::is_lvalue_reference<std::__cxx11::basic_ostringstream<char> &> >,\n",
      "      std::__is_convertible_to_basic_ostream<std::__cxx11::basic_ostringstream<char> &>, std::__is_insertable<std::basic_ostream<char> &, const long double\n",
      "      &, void> >' requested here\u001b[0m\n",
      "    typename enable_if<__and_<__not_<is_lvalue_reference<_Ostream>>,\n",
      "\u001b[0;1;32m                       ^\n",
      "\u001b[0m\u001b[1m/home/jrlab/anaconda3/envs/cling/include/xcpp/xmime.hpp:36:17: \u001b[0m\u001b[0;1;30mnote: \u001b[0mwhile substituting deduced template arguments into function template 'operator<<' [with _Ostream = std::__cxx11::basic_ostringstream<char> &, _Tp = long\n",
      "      double]\u001b[0m\n",
      "            oss << value;\n",
      "\u001b[0;1;32m                ^\n",
      "\u001b[0m\u001b[1m/home/jrlab/anaconda3/envs/cling/include/xcpp/xmime.hpp:64:24: \u001b[0m\u001b[0;1;30mnote: \u001b[0min instantiation of function template specialization 'xcpp::detail::mime_bundle_repr_via_sstream<long double>' requested here\u001b[0m\n",
      "        return detail::mime_bundle_repr_via_sstream(value);\n",
      "\u001b[0;1;32m                       ^\n",
      "\u001b[0m\u001b[1minput_line_20:1:7: \u001b[0m\u001b[0;1;31merror: \u001b[0m\u001b[1muse of undeclared identifier 'xcpp'\u001b[0m\n",
      "using xcpp::mime_bundle_repr;void __cling_Un1Qu36(void* vpClingValue) {\n",
      "\u001b[0;1;32m      ^\n",
      "\u001b[0m\u001b[1minput_line_20:2:2: \u001b[0m\u001b[0;1;31merror: \u001b[0m\u001b[1muse of undeclared identifier 'mime_bundle_repr'\u001b[0m\n",
      " mime_bundle_repr(*(*(std::vector<std::vector<double> >**)0x7ffe3669fa50));\n",
      "\u001b[0;1;32m ^\n",
      "\u001b[0m"
     ]
    },
    {
     "data": {},
     "execution_count": 12,
     "metadata": {},
     "output_type": "execute_result"
    }
   ],
   "source": [
    "x"
   ]
  },
  {
   "cell_type": "code",
   "execution_count": 11,
   "metadata": {},
   "outputs": [
    {
     "name": "stderr",
     "output_type": "stream",
     "text": [
      "In file included from input_line_13:1:\n",
      "\u001b[1m./matplotlib-cpp/matplotlibcpp.h:395:33: \u001b[0m\u001b[0;1;31merror: \u001b[0m\u001b[1mno matching function for call to 'PyFloat_FromDouble'\u001b[0m\n",
      "        PyList_SetItem(list, i, PyFloat_FromDouble(v.at(i)));\n",
      "\u001b[0;1;32m                                ^~~~~~~~~~~~~~~~~~\n",
      "\u001b[0m\u001b[1m./matplotlib-cpp/matplotlibcpp.h:591:30: \u001b[0m\u001b[0;1;30mnote: \u001b[0min instantiation of function template specialization 'matplotlibcpp::detail::get_array<std::vector<double, std::allocator<double> > >' requested here\u001b[0m\n",
      "  PyObject *xarray = detail::get_array(x);\n",
      "\u001b[0;1;32m                             ^\n",
      "\u001b[0m\u001b[1minput_line_17:2:7: \u001b[0m\u001b[0;1;30mnote: \u001b[0min instantiation of function template specialization 'matplotlibcpp::plot3<std::vector<double, std::allocator<double> > >' requested here\u001b[0m\n",
      " plt::plot3(x, y, z);\n",
      "\u001b[0;1;32m      ^\n",
      "\u001b[0m\u001b[1m/home/jrlab/anaconda3/include/python3.8/floatobject.h:45:24: \u001b[0m\u001b[0;1;30mnote: \u001b[0mcandidate function not viable: no known conversion from 'const __gnu_cxx::__alloc_traits<std::allocator<std::vector<double, std::allocator<double> > >\n",
      "      >::value_type' (aka 'const std::vector<double, std::allocator<double> >') to 'double' for 1st argument\u001b[0m\n",
      "PyAPI_FUNC(PyObject *) PyFloat_FromDouble(double);\n",
      "\u001b[0;1;32m                       ^\n",
      "\u001b[0m"
     ]
    },
    {
     "ename": "Interpreter Error",
     "evalue": "",
     "output_type": "error",
     "traceback": [
      "Interpreter Error: "
     ]
    }
   ],
   "source": [
    "plt::plot3(x, y, z);"
   ]
  },
  {
   "cell_type": "code",
   "execution_count": null,
   "metadata": {},
   "outputs": [],
   "source": []
  }
 ],
 "metadata": {
  "kernelspec": {
   "display_name": "C++17",
   "language": "C++17",
   "name": "xcpp17"
  },
  "language_info": {
   "codemirror_mode": "text/x-c++src",
   "file_extension": ".cpp",
   "mimetype": "text/x-c++src",
   "name": "c++",
   "version": "17"
  }
 },
 "nbformat": 4,
 "nbformat_minor": 4
}
